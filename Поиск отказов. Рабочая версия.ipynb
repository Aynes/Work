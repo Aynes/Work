{
 "cells": [
  {
   "cell_type": "code",
   "execution_count": 2,
   "metadata": {},
   "outputs": [],
   "source": [
    "import pandas as pd\n",
    "import numpy as np\n",
    "import xlsxwriter"
   ]
  },
  {
   "cell_type": "code",
   "execution_count": 3,
   "metadata": {},
   "outputs": [],
   "source": [
    "def read_data(file_name, sheet_name):\n",
    "    data = pd.read_excel(file_name,\n",
    "                        sheet_name,\n",
    "                        header=2,\n",
    "                        usecols='A:D',\n",
    "                        index_col=[0,1])\n",
    "    return data"
   ]
  },
  {
   "cell_type": "code",
   "execution_count": 4,
   "metadata": {},
   "outputs": [],
   "source": [
    "def cleaning_data(data):\n",
    "    data[data.values == ['Нач.', 'Кон.']] = np.nan\n",
    "    data[data.values == [0, 360]] = np.nan\n",
    "    data[data['Нач.'] > data['Кон.']] = np.nan\n",
    "    data.dropna(inplace=True)\n",
    "    return data"
   ]
  },
  {
   "cell_type": "code",
   "execution_count": 5,
   "metadata": {},
   "outputs": [],
   "source": [
    "def create_grouped_data(data):\n",
    "    start = data.groupby(data.index).min()['Нач.'].values\n",
    "    stop = data.groupby(data.index).max()['Кон.'].values\n",
    "    index = data.groupby(data.index).min()['Нач.'].index\n",
    "    sistem = [sistem[0] for sistem in index]\n",
    "    components = [components[1] for components in index]\n",
    "    grouped_data =  pd.DataFrame({'Нач.' : start,\n",
    "                                  'Кон.' : stop},\n",
    "                                   index = [sistem, components],\n",
    "                                   columns = ['Нач.','Кон.'])\n",
    "    return(grouped_data)"
   ]
  },
  {
   "cell_type": "code",
   "execution_count": 6,
   "metadata": {},
   "outputs": [],
   "source": [
    "def create_range_data(data):\n",
    "    dots = sorted({element for line in data.values for element in line})\n",
    "    table = []\n",
    "    for i in range(len(dots)-1):\n",
    "        tbl = data[data['Нач.'] <= dots[i]][data['Кон.'] >= dots[i+1]]\n",
    "        tbl.rename(columns={\"Нач.\":dots[i],\n",
    "                            'Кон.':dots[i+1]},\n",
    "                             inplace=True)\n",
    "        table.append(tbl)\n",
    "    return(table)"
   ]
  },
  {
   "cell_type": "code",
   "execution_count": 7,
   "metadata": {},
   "outputs": [],
   "source": [
    "def multiple_dfs(df_list, sheets, file_name, spaces):\n",
    "    writer = pd.ExcelWriter(file_name, engine='xlsxwriter')   \n",
    "    row = 0\n",
    "    for dataframe in df_list:\n",
    "        if dataframe.index != []:\n",
    "            dataframe.to_excel(writer,\n",
    "                           sheet_name=sheets,\n",
    "                           startcol=0,\n",
    "                           startrow=row,)   \n",
    "            row = row + len(dataframe.index) + spaces + 1\n",
    "    writer.save()"
   ]
  },
  {
   "cell_type": "code",
   "execution_count": 7,
   "metadata": {},
   "outputs": [
    {
     "data": {
      "text/plain": [
       "range(3, 17)"
      ]
     },
     "execution_count": 7,
     "metadata": {},
     "output_type": "execute_result"
    }
   ],
   "source": [
    "range(3,17)"
   ]
  },
  {
   "cell_type": "code",
   "execution_count": 15,
   "metadata": {},
   "outputs": [],
   "source": [
    "def filters(data, key):\n",
    "    print(data.loc[data.index])"
   ]
  },
  {
   "cell_type": "code",
   "execution_count": 16,
   "metadata": {},
   "outputs": [
    {
     "name": "stdout",
     "output_type": "stream",
     "text": [
      "                                                                                                      Нач.  \\\n",
      "ГС2                                               Трубопроводы                                          85   \n",
      "                                                  Трубопроводы                                          88   \n",
      "                                                  Трубопроводы                                          88   \n",
      "                                                  Насос ГС2                                             89   \n",
      "КСКВ                                              Трубопроводы отбора горячего воздуха от правого...    83   \n",
      "                                                  Блоки управления и контроля. Бук правый               81   \n",
      "                                                  Блоки управления и контроля. Бук правый               81   \n",
      "                                                  Датчики температуры обнаружения утечек правый борт    79   \n",
      "                                                  Датчики температуры обнаружения утечек правый борт    82   \n",
      "                                                  Трубопроводы системы отбора воздуха на правом д...    87   \n",
      "Шасси                                             Трубопроводы СУВШ в отсеке Ф2 (ГС 1)                74.2   \n",
      "                                                  Трубопроводы СУВШ в отсеке Ф2 (ГС 1)                  77   \n",
      "                                                  Трубопроводы СУВШ в отсеке Ф2 (ГС 1)                77.4   \n",
      "                                                  Трубопроводы СУВШ в отсеке Ф2 (ГС 2)                88.5   \n",
      "                                                  Трубопроводы СУВШ в отсеке Ф2 (ГС 2)                88.7   \n",
      "                                                  Трубопроводы СУВШ в отсеке Ф2 (ГС 2)                88.7   \n",
      "                                                  Кабель стояночного торможения                       74.9   \n",
      "                                                  Кабель стояночного торможения                         75   \n",
      "                                                  Кабель стояночного торможения                       75.2   \n",
      "МСУ                                               Трубопроводы РУ в пилоне правом                       83   \n",
      "                                                  Маршевая силовая установка PW1400G правая             83   \n",
      "                                                  Маршевая силовая установка PW1400G правая             83   \n",
      "                                                  Маршевая силовая установка PW1400G правая             83   \n",
      "Обшивка отсеков Ф2, Ф3                            Обшивка                                               51   \n",
      "                                                  Обшивка                                               52   \n",
      "                                                  Обшивка                                               52   \n",
      "ОСЭ Секция панелей 1         отсека Ф3            Стрингер 7 левый                                      52   \n",
      "                                                  Стрингер 7 левый                                      53   \n",
      "                                                  Стрингер 7 правый                                     61   \n",
      "                                                  Стрингер 7 правый                                     61   \n",
      "...                                                                                                    ...   \n",
      "ГС2                                               Трубопроводы                                          88   \n",
      "КСКВ                                              Блоки управления и контроля. БУК правый               81   \n",
      "                                                  Датчики температуры обнаружения утечек правый борт    79   \n",
      "                                                  Датчики температуры обнаружения утечек правый борт    82   \n",
      "Шасси                                             Трубопроводы СУВШ в отсеке Ф2 (ГС 1)                74.2   \n",
      "                                                  Трубопроводы СУВШ в отсеке Ф2 (ГС 1)                  77   \n",
      "                                                  Трубопроводы СУВШ в отсеке Ф2 (ГС 1)                77.4   \n",
      "                                                  Трубопроводы СУВШ в отсеке Ф2 (ГС 2)                88.5   \n",
      "                                                  Трубопроводы СУВШ в отсеке Ф2 (ГС 2)                88.7   \n",
      "                                                  Трубопроводы СУВШ в отсеке Ф2 (ГС 2)                88.7   \n",
      "                                                  Кабель стояночного торможения                       74.9   \n",
      "                                                  Кабель стояночного торможения                         75   \n",
      "                                                  Кабель стояночного торможения                       75.2   \n",
      "МСУ                                               Маршевая силовая установка PW1400G правая             83   \n",
      "                                                  Маршевая силовая установка PW1400G правая             83   \n",
      "                                                  Маршевая силовая установка PW1400G правая             83   \n",
      "Обшивка отсеков Ф2, Ф3                            Обшивка                                               51   \n",
      "                                                  Обшивка                                               52   \n",
      "                                                  Обшивка                                               52   \n",
      "ОСЭ левой боковой панели      над центропланом    Лента стыковая верхняя                                60   \n",
      "                                                  Лента стыковая нижняя                                 71   \n",
      "Стык отсеков Ф2 и Ф3                              Лента                                                 52   \n",
      "ОСЭ каркаса пола    пассажирского отсека Ф3       Лента                                                 69   \n",
      "ОСЭ отсека Ф2                                     Стрингер 7 правый                                     61   \n",
      "                                                  Стрингер 18 левый                                     61   \n",
      "                                                  Стрингер 7 левый                                      53   \n",
      "                                                  Стрингер 30 левый                                     82   \n",
      "                                                  Стрингер 41                                           90   \n",
      "                                                  Стрингер 18 левый (правый)                            75   \n",
      "                                                  Стрингер 30 правый                                    85   \n",
      "\n",
      "                                                                                                      Кон.  \n",
      "ГС2                                               Трубопроводы                                          98  \n",
      "                                                  Трубопроводы                                          98  \n",
      "                                                  Трубопроводы                                          99  \n",
      "                                                  Насос ГС2                                             96  \n",
      "КСКВ                                              Трубопроводы отбора горячего воздуха от правого...    94  \n",
      "                                                  Блоки управления и контроля. Бук правый               91  \n",
      "                                                  Блоки управления и контроля. Бук правый               91  \n",
      "                                                  Датчики температуры обнаружения утечек правый борт    91  \n",
      "                                                  Датчики температуры обнаружения утечек правый борт    90  \n",
      "                                                  Трубопроводы системы отбора воздуха на правом д...    93  \n",
      "Шасси                                             Трубопроводы СУВШ в отсеке Ф2 (ГС 1)                85.2  \n",
      "                                                  Трубопроводы СУВШ в отсеке Ф2 (ГС 1)                88.4  \n",
      "                                                  Трубопроводы СУВШ в отсеке Ф2 (ГС 1)                88.6  \n",
      "                                                  Трубопроводы СУВШ в отсеке Ф2 (ГС 2)                96.9  \n",
      "                                                  Трубопроводы СУВШ в отсеке Ф2 (ГС 2)                  97  \n",
      "                                                  Трубопроводы СУВШ в отсеке Ф2 (ГС 2)                97.3  \n",
      "                                                  Кабель стояночного торможения                       83.5  \n",
      "                                                  Кабель стояночного торможения                       83.6  \n",
      "                                                  Кабель стояночного торможения                       83.8  \n",
      "МСУ                                               Трубопроводы РУ в пилоне правом                       88  \n",
      "                                                  Маршевая силовая установка PW1400G правая            100  \n",
      "                                                  Маршевая силовая установка PW1400G правая            100  \n",
      "                                                  Маршевая силовая установка PW1400G правая            100  \n",
      "Обшивка отсеков Ф2, Ф3                            Обшивка                                               98  \n",
      "                                                  Обшивка                                               99  \n",
      "                                                  Обшивка                                               99  \n",
      "ОСЭ Секция панелей 1         отсека Ф3            Стрингер 7 левый                                      60  \n",
      "                                                  Стрингер 7 левый                                      60  \n",
      "                                                  Стрингер 7 правый                                     67  \n",
      "                                                  Стрингер 7 правый                                     67  \n",
      "...                                                                                                    ...  \n",
      "ГС2                                               Трубопроводы                                          99  \n",
      "КСКВ                                              Блоки управления и контроля. БУК правый               91  \n",
      "                                                  Датчики температуры обнаружения утечек правый борт    91  \n",
      "                                                  Датчики температуры обнаружения утечек правый борт    90  \n",
      "Шасси                                             Трубопроводы СУВШ в отсеке Ф2 (ГС 1)                85.2  \n",
      "                                                  Трубопроводы СУВШ в отсеке Ф2 (ГС 1)                88.4  \n",
      "                                                  Трубопроводы СУВШ в отсеке Ф2 (ГС 1)                88.6  \n",
      "                                                  Трубопроводы СУВШ в отсеке Ф2 (ГС 2)                96.9  \n",
      "                                                  Трубопроводы СУВШ в отсеке Ф2 (ГС 2)                  97  \n",
      "                                                  Трубопроводы СУВШ в отсеке Ф2 (ГС 2)                97.3  \n",
      "                                                  Кабель стояночного торможения                       83.5  \n",
      "                                                  Кабель стояночного торможения                       83.6  \n",
      "                                                  Кабель стояночного торможения                       83.8  \n",
      "МСУ                                               Маршевая силовая установка PW1400G правая            100  \n",
      "                                                  Маршевая силовая установка PW1400G правая            100  \n",
      "                                                  Маршевая силовая установка PW1400G правая            100  \n",
      "Обшивка отсеков Ф2, Ф3                            Обшивка                                               98  \n",
      "                                                  Обшивка                                               99  \n",
      "                                                  Обшивка                                               99  \n",
      "ОСЭ левой боковой панели      над центропланом    Лента стыковая верхняя                                72  \n",
      "                                                  Лента стыковая нижняя                                 83  \n",
      "Стык отсеков Ф2 и Ф3                              Лента                                                 99  \n",
      "ОСЭ каркаса пола    пассажирского отсека Ф3       Лента                                                 85  \n",
      "ОСЭ отсека Ф2                                     Стрингер 7 правый                                     67  \n",
      "                                                  Стрингер 18 левый                                     72  \n",
      "                                                  Стрингер 7 левый                                      60  \n",
      "                                                  Стрингер 30 левый                                     93  \n",
      "                                                  Стрингер 41                                           98  \n",
      "                                                  Стрингер 18 левый (правый)                            80  \n",
      "                                                  Стрингер 30 правый                                    92  \n",
      "\n",
      "[105 rows x 2 columns]\n"
     ]
    }
   ],
   "source": [
    "file_name = 'L.xlsx'\n",
    "sheep_name = 'Ступень 1'\n",
    "data = read_data(file_name,sheep_name)\n",
    "key=0\n",
    "data = cleaning_data(data)\n",
    "filters(data, key)"
   ]
  },
  {
   "cell_type": "code",
   "execution_count": 10,
   "metadata": {},
   "outputs": [
    {
     "name": "stdout",
     "output_type": "stream",
     "text": [
      "1\n"
     ]
    },
    {
     "name": "stderr",
     "output_type": "stream",
     "text": [
      "/home/senya/anaconda3/lib/python3.6/site-packages/ipykernel_launcher.py:5: UserWarning: Boolean Series key will be reindexed to match DataFrame index.\n",
      "  \"\"\"\n",
      "/home/senya/anaconda3/lib/python3.6/site-packages/ipykernel_launcher.py:5: DeprecationWarning: The truth value of an empty array is ambiguous. Returning False, but in future this will result in an error. Use `array.size > 0` to check that an array is not empty.\n",
      "  \"\"\"\n"
     ]
    },
    {
     "name": "stdout",
     "output_type": "stream",
     "text": [
      "2\n",
      "3\n",
      "4\n",
      "5\n",
      "6\n",
      "7\n",
      "8\n",
      "9\n",
      "10\n",
      "11\n",
      "12\n",
      "13\n",
      "14\n",
      "15\n",
      "16\n",
      "17\n"
     ]
    }
   ],
   "source": [
    "for i in range(17):\n",
    "    i += 1\n",
    "    file_name = 'L.xlsx'\n",
    "    sheep_name = 'Ступень %s' % i\n",
    "    print(i)\n",
    "    data = read_data(file_name,sheep_name)\n",
    "    data = cleaning_data(data)\n",
    "    grouped_data = create_grouped_data(data)\n",
    "    table = create_range_data(grouped_data)\n",
    "    file = 'Ступень %s.xlsx' % i\n",
    "    sheet = 'Ступень %s' % i\n",
    "    multiple_dfs(table, sheet, file, 2)\n"
   ]
  },
  {
   "cell_type": "code",
   "execution_count": null,
   "metadata": {},
   "outputs": [],
   "source": []
  }
 ],
 "metadata": {
  "kernelspec": {
   "display_name": "Python 3",
   "language": "python",
   "name": "python3"
  },
  "language_info": {
   "codemirror_mode": {
    "name": "ipython",
    "version": 3
   },
   "file_extension": ".py",
   "mimetype": "text/x-python",
   "name": "python",
   "nbconvert_exporter": "python",
   "pygments_lexer": "ipython3",
   "version": "3.6.4"
  }
 },
 "nbformat": 4,
 "nbformat_minor": 2
}
